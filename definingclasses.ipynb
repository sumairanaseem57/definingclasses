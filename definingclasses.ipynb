{
 "cells": [
  {
   "cell_type": "markdown",
   "id": "09fa11a7",
   "metadata": {},
   "source": [
    "# chapter 11"
   ]
  },
  {
   "cell_type": "markdown",
   "id": "6ad4db95",
   "metadata": {},
   "source": [
    "## defining new classes"
   ]
  },
  {
   "cell_type": "code",
   "execution_count": 3,
   "id": "5bf4b050",
   "metadata": {},
   "outputs": [],
   "source": [
    "class Apple:\n",
    "    pass"
   ]
  },
  {
   "cell_type": "code",
   "execution_count": 5,
   "id": "36f55fb2",
   "metadata": {},
   "outputs": [],
   "source": [
    "class Apple:\n",
    "    pass\n",
    "class Apple:\n",
    "    color = \"\"\n",
    "    flavor = \"\""
   ]
  },
  {
   "cell_type": "code",
   "execution_count": 7,
   "id": "e6534fbc",
   "metadata": {},
   "outputs": [],
   "source": [
    "class Apple:\n",
    "    pass\n",
    "class Apple:\n",
    "    color = \"\"\n",
    "    flavor= \"\"\n",
    "    jonagold = Apple()"
   ]
  },
  {
   "cell_type": "code",
   "execution_count": 10,
   "id": "c842854e",
   "metadata": {},
   "outputs": [
    {
     "name": "stdout",
     "output_type": "stream",
     "text": [
      "red\n",
      "sweet\n"
     ]
    }
   ],
   "source": [
    "class Apple:\n",
    "    pass\n",
    "class Apple:\n",
    "    color=\"\"\n",
    "    flavor=\"\"\n",
    "    jonagold= Apple()\n",
    "    jonagold.color=\"red\"\n",
    "    jonagold.flavor=\"sweet\"\n",
    "    print(jonagold.color)\n",
    "    print(jonagold.flavor)"
   ]
  },
  {
   "cell_type": "code",
   "execution_count": 13,
   "id": "b328f344",
   "metadata": {},
   "outputs": [
    {
     "name": "stdout",
     "output_type": "stream",
     "text": [
      "red\n",
      "SWEET\n"
     ]
    }
   ],
   "source": [
    "class Apple:\n",
    "    pass\n",
    "class Apple:\n",
    "    color=\"\"\n",
    "    flavor=\"\"\n",
    "    jonagold= Apple()\n",
    "    jonagold.color=\"red\"\n",
    "    jonagold.flavor=\"sweet\"\n",
    "    print(jonagold.color)\n",
    "    print(jonagold.flavor.upper())"
   ]
  },
  {
   "cell_type": "code",
   "execution_count": 18,
   "id": "b1875de1",
   "metadata": {},
   "outputs": [
    {
     "name": "stdout",
     "output_type": "stream",
     "text": [
      "red\n",
      "sweet\n",
      "yellow\n",
      "soft\n"
     ]
    }
   ],
   "source": [
    "class Apple:\n",
    "    pass\n",
    "color=\"\"\n",
    "flavor=\"\"\n",
    "jonagold= Apple()\n",
    "jonagold.color=\"red\"\n",
    "jonagold.flavor=\"sweet\"\n",
    "print(jonagold.color)\n",
    "print(jonagold.flavor)\n",
    "golden = Apple()\n",
    "golden.color=\"yellow\"\n",
    "golden.flavor=\"soft\"\n",
    "print(golden.color)\n",
    "print(golden.flavor)"
   ]
  },
  {
   "cell_type": "code",
   "execution_count": 37,
   "id": "3aec6745",
   "metadata": {},
   "outputs": [
    {
     "name": "stdout",
     "output_type": "stream",
     "text": [
      "Rosees are red,\n",
      "violets are blue,\n",
      "suger is sweet.\n"
     ]
    }
   ],
   "source": [
    "class Flower:\n",
    "    color='unknown'\n",
    "rose = Flower()\n",
    "rose.color=\"red\"\n",
    "\n",
    "violet= Flower()\n",
    "violet.color=\"blue\"\n",
    "\n",
    "this_pun_is_for_you = \"suger is sweet.\"\n",
    "print(\"Rosees are {},\".format(rose.color))\n",
    "print(\"violets are {},\".format(violet.color))\n",
    "print(this_pun_is_for_you)"
   ]
  },
  {
   "cell_type": "code",
   "execution_count": 45,
   "id": "ab581695",
   "metadata": {},
   "outputs": [],
   "source": [
    " class Cat:\n",
    "        pass\n",
    "mycat = Cat()"
   ]
  },
  {
   "cell_type": "code",
   "execution_count": 46,
   "id": "2fff6e80",
   "metadata": {},
   "outputs": [
    {
     "name": "stdout",
     "output_type": "stream",
     "text": [
      "meow meow meow\n"
     ]
    }
   ],
   "source": [
    "class Cat:\n",
    "    def speak(self):\n",
    "        print(\"meow meow meow\")\n",
    "mycat = Cat()\n",
    "mycat.speak()"
   ]
  },
  {
   "cell_type": "code",
   "execution_count": 65,
   "id": "bccafb4a",
   "metadata": {},
   "outputs": [
    {
     "name": "stdout",
     "output_type": "stream",
     "text": [
      "meow1! i'm Luna! meow\n",
      "meow1! i'm Bella! meow\n"
     ]
    }
   ],
   "source": [
    "class Cat:\n",
    "    name = \"\"\n",
    "    def speak(self):\n",
    "        print(\"meow1! i'm {}! meow\".format(self.name))\n",
    "myLuna = Cat()\n",
    "myLuna.name = \"Luna\"\n",
    "myLuna.speak()\n",
    "myBella = Cat()\n",
    "myBella.name = \"Bella\"\n",
    "myBella.speak()"
   ]
  },
  {
   "cell_type": "code",
   "execution_count": 70,
   "id": "743ba149",
   "metadata": {},
   "outputs": [
    {
     "data": {
      "text/plain": [
       "0"
      ]
     },
     "execution_count": 70,
     "metadata": {},
     "output_type": "execute_result"
    }
   ],
   "source": [
    "class Cat:\n",
    "    years = 0\n",
    "    def age(self):\n",
    "        return self.years*12\n",
    "myLuna = Cat()\n",
    "myLuna.age()"
   ]
  },
  {
   "cell_type": "code",
   "execution_count": 72,
   "id": "aa7ba768",
   "metadata": {},
   "outputs": [
    {
     "data": {
      "text/plain": [
       "24"
      ]
     },
     "execution_count": 72,
     "metadata": {},
     "output_type": "execute_result"
    }
   ],
   "source": [
    "class Cat:\n",
    "    years = 0\n",
    "    def age(self):\n",
    "        return self.years*12\n",
    "myLuna = Cat()\n",
    "myLuna.years = 2\n",
    "myLuna.age()"
   ]
  },
  {
   "cell_type": "code",
   "execution_count": 86,
   "id": "2fcedf32",
   "metadata": {},
   "outputs": [
    {
     "name": "stdout",
     "output_type": "stream",
     "text": [
      "red\n",
      "sweet\n"
     ]
    }
   ],
   "source": [
    "class Apple:\n",
    "    def __init__(self,color,flavor):\n",
    "        self.color = color\n",
    "        self.flavor = flavor\n",
    "jonagold = Apple(\"red\" , \"sweet\")\n",
    "print(jonagold.color)\n",
    "print(jonagold.flavor)"
   ]
  },
  {
   "cell_type": "code",
   "execution_count": 92,
   "id": "0bccb350",
   "metadata": {},
   "outputs": [
    {
     "name": "stdout",
     "output_type": "stream",
     "text": [
      "this apple is red and its flavor is sweet \n"
     ]
    }
   ],
   "source": [
    "class Apple:\n",
    "    def __init__(self,color,flavor):\n",
    "        self.color = color\n",
    "        self.flavor = flavor\n",
    "    def __str__(self):\n",
    "        return \"this apple is {} and its flavor is {} \".format(self.color , self.flavor)\n",
    "    jonagold = Apple(\"red\",\"sweet\")\n",
    "    print(jonagold)"
   ]
  },
  {
   "cell_type": "code",
   "execution_count": 93,
   "id": "3915cacd",
   "metadata": {},
   "outputs": [
    {
     "name": "stdout",
     "output_type": "stream",
     "text": [
      "Help on class Apple in module __main__:\n",
      "\n",
      "class Apple(builtins.object)\n",
      " |  Apple(color, flavor)\n",
      " |  \n",
      " |  Methods defined here:\n",
      " |  \n",
      " |  __init__(self, color, flavor)\n",
      " |      Initialize self.  See help(type(self)) for accurate signature.\n",
      " |  \n",
      " |  __str__(self)\n",
      " |      Return str(self).\n",
      " |  \n",
      " |  ----------------------------------------------------------------------\n",
      " |  Data descriptors defined here:\n",
      " |  \n",
      " |  __dict__\n",
      " |      dictionary for instance variables (if defined)\n",
      " |  \n",
      " |  __weakref__\n",
      " |      list of weak references to the object (if defined)\n",
      "\n"
     ]
    }
   ],
   "source": [
    "class Apple:\n",
    "    def __init__(self,color,flavor):\n",
    "        self.color = color\n",
    "        self.flavor = flavor\n",
    "    def __str__(self):\n",
    "        return \"this apple is {} and its flavor is {} \".format(self.color , self.flavor)\n",
    "help(Apple)"
   ]
  },
  {
   "cell_type": "code",
   "execution_count": 97,
   "id": "7dad8ee5",
   "metadata": {},
   "outputs": [
    {
     "name": "stdout",
     "output_type": "stream",
     "text": [
      "Help on function to_seconds in module __main__:\n",
      "\n",
      "to_seconds(hours, minutes, seconds)\n",
      "    return the amount of seconds in the given hours,minutes and seconds.\n",
      "\n"
     ]
    }
   ],
   "source": [
    "def to_seconds(hours,minutes,seconds):\n",
    "    \"\"\" return the amount of seconds in the given hours,minutes and seconds.\"\"\"\n",
    "    return hours*3600+minutes*60+seconds\n",
    "help(to_seconds)"
   ]
  },
  {
   "cell_type": "code",
   "execution_count": 107,
   "id": "e9fb0e73",
   "metadata": {},
   "outputs": [
    {
     "name": "stdout",
     "output_type": "stream",
     "text": [
      "Help on class Person in module __main__:\n",
      "\n",
      "class Person(builtins.object)\n",
      " |  Person(name)\n",
      " |  \n",
      " |  Methods defined here:\n",
      " |  \n",
      " |  __init__(self, name)\n",
      " |      Initialize self.  See help(type(self)) for accurate signature.\n",
      " |  \n",
      " |  greeting(self)\n",
      " |      output a message with tne name of person\n",
      " |  \n",
      " |  ----------------------------------------------------------------------\n",
      " |  Data descriptors defined here:\n",
      " |  \n",
      " |  __dict__\n",
      " |      dictionary for instance variables (if defined)\n",
      " |  \n",
      " |  __weakref__\n",
      " |      list of weak references to the object (if defined)\n",
      "\n"
     ]
    }
   ],
   "source": [
    "class Person:\n",
    "    def __init__(self, name):\n",
    "        self.name = name\n",
    "    def greeting(self):\n",
    "        \"\"\" output a message with tne name of person\"\"\"\n",
    "    \n",
    "help(Person)"
   ]
  },
  {
   "cell_type": "markdown",
   "id": "e4668df2",
   "metadata": {},
   "source": [
    "# documenting classes, method and function"
   ]
  },
  {
   "cell_type": "code",
   "execution_count": 108,
   "id": "b3ba7033",
   "metadata": {},
   "outputs": [],
   "source": [
    "class ClassName:\n",
    "    \"\"\" documentation for the class.\"\"\"\n",
    "    def method_name(self , _parameters):\n",
    "        \"\"\"documentation for the method\"\"\"\n",
    "        body_of_method\n",
    "def function_name(parameters):\n",
    "    \"\"\"documentation for the function\"\"\"\n",
    "    body_of_function"
   ]
  },
  {
   "cell_type": "markdown",
   "id": "56c67ece",
   "metadata": {},
   "source": [
    "## inheritance"
   ]
  },
  {
   "cell_type": "code",
   "execution_count": 109,
   "id": "5dd90c3c",
   "metadata": {},
   "outputs": [],
   "source": [
    "class Fruit:\n",
    "    def __init__(self,color,flavor):\n",
    "        self.color = color\n",
    "        self.flavor = flavor"
   ]
  },
  {
   "cell_type": "code",
   "execution_count": 116,
   "id": "df8f5ca7",
   "metadata": {},
   "outputs": [
    {
     "name": "stdout",
     "output_type": "stream",
     "text": [
      "green\n",
      "tart\n",
      "red\n",
      "sweet\n"
     ]
    }
   ],
   "source": [
    "class Apple(Fruit):\n",
    "    pass\n",
    "class Grapes(Fruit):\n",
    "    pass\n",
    "aaa = Apple(\"green\",\"tart\")\n",
    "bbb = Grapes(\"red\",\"sweet\")\n",
    "print(aaa.color)\n",
    "print(aaa.flavor)\n",
    "print(bbb.color)\n",
    "print(bbb.flavor)"
   ]
  },
  {
   "cell_type": "code",
   "execution_count": 119,
   "id": "82f939e1",
   "metadata": {},
   "outputs": [
    {
     "name": "stdout",
     "output_type": "stream",
     "text": [
      "this polo is made of cotton\n"
     ]
    }
   ],
   "source": [
    "class Clothing:\n",
    "    material = \"\"\n",
    "    def __init__(self , name):\n",
    "        self.name = name\n",
    "    def checkmaterial(self):\n",
    "        print(\"this {} is made of {}\".format(self.name, self.material))\n",
    "class Shirt(Clothing):\n",
    "    material = \"cotton\"\n",
    "polo = Shirt(\"polo\")\n",
    "polo.checkmaterial()"
   ]
  },
  {
   "cell_type": "markdown",
   "id": "7bc388ed",
   "metadata": {},
   "source": [
    "## COMPOSITION"
   ]
  },
  {
   "cell_type": "code",
   "execution_count": 122,
   "id": "a6dcb1df",
   "metadata": {},
   "outputs": [],
   "source": [
    "class Repository:\n",
    "    def __init__(self):\n",
    "        self.packages = {}\n",
    "    def add_package(self, package):\n",
    "        self.packages[package.name] = package\n",
    "    def total_size(self):\n",
    "        result = 0\n",
    "        for package in self.packages.value():\n",
    "            result += package.size\n",
    "            return result"
   ]
  },
  {
   "cell_type": "markdown",
   "id": "e03bae40",
   "metadata": {},
   "source": [
    "## modules"
   ]
  },
  {
   "cell_type": "code",
   "execution_count": 124,
   "id": "ca4e2540",
   "metadata": {},
   "outputs": [
    {
     "data": {
      "text/plain": [
       "10"
      ]
     },
     "execution_count": 124,
     "metadata": {},
     "output_type": "execute_result"
    }
   ],
   "source": [
    "import random\n",
    "random.randint(1,10)\n",
    "random.randint(1,10)"
   ]
  },
  {
   "cell_type": "code",
   "execution_count": 130,
   "id": "0a79f855",
   "metadata": {},
   "outputs": [
    {
     "name": "stdout",
     "output_type": "stream",
     "text": [
      "2023-09-25 15:57:27.201136\n"
     ]
    }
   ],
   "source": [
    "import datetime\n",
    "now = datetime.datetime.now()\n",
    "type(now)\n",
    "print(now)\n"
   ]
  },
  {
   "cell_type": "code",
   "execution_count": 131,
   "id": "5e6b6bb8",
   "metadata": {},
   "outputs": [
    {
     "data": {
      "text/plain": [
       "2023"
      ]
     },
     "execution_count": 131,
     "metadata": {},
     "output_type": "execute_result"
    }
   ],
   "source": [
    "now.year"
   ]
  },
  {
   "cell_type": "code",
   "execution_count": 132,
   "id": "be96a17e",
   "metadata": {},
   "outputs": [
    {
     "name": "stdout",
     "output_type": "stream",
     "text": [
      "2023-10-23 15:57:27.201136\n"
     ]
    }
   ],
   "source": [
    "print(now + datetime.timedelta(28))"
   ]
  },
  {
   "cell_type": "code",
   "execution_count": null,
   "id": "2efbcfa1",
   "metadata": {},
   "outputs": [],
   "source": []
  }
 ],
 "metadata": {
  "kernelspec": {
   "display_name": "Python 3 (ipykernel)",
   "language": "python",
   "name": "python3"
  },
  "language_info": {
   "codemirror_mode": {
    "name": "ipython",
    "version": 3
   },
   "file_extension": ".py",
   "mimetype": "text/x-python",
   "name": "python",
   "nbconvert_exporter": "python",
   "pygments_lexer": "ipython3",
   "version": "3.9.13"
  }
 },
 "nbformat": 4,
 "nbformat_minor": 5
}
